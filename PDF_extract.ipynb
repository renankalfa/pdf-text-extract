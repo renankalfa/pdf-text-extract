{
 "cells": [
  {
   "cell_type": "markdown",
   "id": "9477a7d8",
   "metadata": {},
   "source": [
    "# Redes de Proteção às Mulheres do DF - TJDFT"
   ]
  },
  {
   "cell_type": "markdown",
   "id": "a123ebf2",
   "metadata": {},
   "source": [
    "O intuito do script abaixo é para a extração dos dados da cartilha com informações sobre as redes de proteção presentes em cada região administrativa do Distrito Federal."
   ]
  },
  {
   "cell_type": "markdown",
   "id": "26a3bd79",
   "metadata": {},
   "source": [
    "### Importando os dados e as bibliotecas"
   ]
  },
  {
   "cell_type": "code",
   "execution_count": 1,
   "id": "352805a3",
   "metadata": {
    "ExecuteTime": {
     "end_time": "2022-10-25T14:00:10.687164Z",
     "start_time": "2022-10-25T14:00:09.992643Z"
    }
   },
   "outputs": [],
   "source": [
    "import pandas as pd\n",
    "import numpy as np\n",
    "import PyPDF2 as pf\n",
    "import re"
   ]
  },
  {
   "cell_type": "markdown",
   "id": "696f9c87",
   "metadata": {},
   "source": [
    "Carregamento do arquivo PDF"
   ]
  },
  {
   "cell_type": "code",
   "execution_count": 2,
   "id": "80cd0318",
   "metadata": {
    "ExecuteTime": {
     "end_time": "2022-10-25T14:00:10.879178Z",
     "start_time": "2022-10-25T14:00:10.689165Z"
    }
   },
   "outputs": [],
   "source": [
    "pdf_file = pf.PdfFileReader('Dados/catalogo_DF.pdf')"
   ]
  },
  {
   "cell_type": "markdown",
   "id": "ecb00c5c",
   "metadata": {},
   "source": [
    "Definição das RA's e as suas respectivas páginas do pdf"
   ]
  },
  {
   "cell_type": "code",
   "execution_count": 3,
   "id": "4e8c5e8a",
   "metadata": {
    "ExecuteTime": {
     "end_time": "2022-10-25T14:00:10.911181Z",
     "start_time": "2022-10-25T14:00:10.880180Z"
    }
   },
   "outputs": [],
   "source": [
    "lista_RA = ['ÁGUAS CLARAS', 'ARNIQUEIRAS', 'ASA NORTE', 'ASA SUL',\n",
    "            'BRAZLÂNDIA', 'CANDANGOLâNDIA', 'CEILÂNDIA', 'CRUZEIRO', \n",
    "            'DISTRITO FEDERAL', 'ESTRUTURAL / SCIA', 'FERCAL', \n",
    "            'GAMA', 'GRANJA DO TORTO', 'GUARÁ', 'ITAPOÃ', 'JARDIM BOTâNICO', \n",
    "            'LAGO NORTE', 'LAGO SUL', 'NÚCLEO BANDEIRANTE', 'PARANOÁ', \n",
    "            'PARK WAY', 'PLANALTINA', 'PÔR DO SOL / SOL NASCENTE', 'RECANTO DAS EMAS',\n",
    "            'RIACHO FUNDO I', 'RIACHO FUNDO II', 'SAMAMBAIA', 'SANTA MARIA', \n",
    "            'SÃO SEBASTIÃO', 'SIA - SETOR DE INDÚSTRIA E ABASTECIMENTO', 'SOBRADINHO I', \n",
    "            'SOBRADINHO II', 'SUDOESTE / OCTOGONAL', 'TAGUATINGA', 'VARJÃO', \n",
    "            'VICENTE PIRES', 'VILA PLANALTO']\n",
    "lista_indices = [9, 15, 15, 20, 21, 28, 28, 37, 38, 44, 44, 47, 48, 59, 60, 63, 64, 69, 69, 74, 74, 77, 78, 84, 84, 87, 87, 92, 93, 97, 97, 101, 101, 104, 105, 109, 109, 113, 114, 119, 120, 123, 123, 135, 136, 141, 142, 149, 150, 154, 155, 159, 159, 167, 168, 175, 176, 183, 184, 188, 189, 195, 196, 200, 200, 204, 205, 215, 215, 219, 219, 225, 225, 229]"
   ]
  },
  {
   "cell_type": "markdown",
   "id": "db349e1d",
   "metadata": {},
   "source": [
    "### Definindo as funções"
   ]
  },
  {
   "cell_type": "markdown",
   "id": "20f19100",
   "metadata": {},
   "source": [
    "Função para limpar o texto bruto"
   ]
  },
  {
   "cell_type": "code",
   "execution_count": 4,
   "id": "b1a1dba4",
   "metadata": {
    "ExecuteTime": {
     "end_time": "2022-10-25T14:00:11.167207Z",
     "start_time": "2022-10-25T14:00:10.913185Z"
    }
   },
   "outputs": [],
   "source": [
    "def limpar_texto_bruto(text=''):\n",
    "    lista_limpar = ['\\n', 'Rede de Proteção às Mulheres do Distrito Federal | 3ª edição Núcleo Judiciário da Mulher - NJM/TJDFT', 'Internação Álcool / Drogas:  Para acessar as instituições de internação conveniadas à Secretaria de Saúde do Distrito Federal, o(a) jurisdicionado(a) deve ser encaminhado ao CAPS AD de referência do seu local de residência para avaliação multidisciplinar que, por sua vez, encaminha para a rede conveniada conforme critérios da equipe de saúde.', 'Programas Assistência Social:  Para acessar os programas da Assistência Social, o(a) jurisdicionado(a) deve ser encaminhado ao CRAS/ CREAS de referência do seu local de residência para avaliação multidisciplinar que, por sua vez, encaminha para a rede conveniada conforme critérios da equipe do Sistema Único de Assistência Social.', 'Programas Assistência Social:  Para acessar os programas da Assistência Social, o(a) jurisdicionado(a) deve ser encaminhado ao CRAS/ CREAS de referência do seu local de residência para avaliação multidisciplinar que, por sua vez, encaminha para a rede conveniada conforme critérios da equipe do Sistema Único de Assistência Social.','Rede de Proteção às Mulheres do Distrito Federal | 3ª edição Núcleo Judiciário da Mulher - NJM/TJDFT','Internação Álcool / Drogas:  Para acessar as instituições de internação conveniadas à Secretaria de Saúde do Distrito Federal, o(a) jurisdicionado(a) deve ser encaminhado ao CAPS AD de referência do seu local de residência para avaliação multidisciplinar que, por sua vez, encaminha para a rede conveniada conforme critérios da equipe de saúde.”','Programas Assistência Social:  Para acessar os programas da Assistência Social, o(a) jurisdicionado(a) deve ser encaminhado ao CRAS/ CREAS de referência do seu local de residência para avaliação multidisciplinar que, por sua vez, encaminha para a rede conveniada conforme critérios da equipe do Sistema Único de Assistência Social.”','Internação Álcool / Drogas:  Para acessar as instituições de internação conveniadas à Secretaria de Saúde do Distrito Federal, o(a) jurisdicionado(a) deve ser encaminhado ao CAPS AD de referência do seu local de residência para avaliação multidisciplinar que, por sua vez, encaminha para a rede conveniada conforme critérios da equipe de saúde.”','Programas Assistência Social:  Para acessar os programas da Assistência Social, o(a) jurisdicionado(a) deve ser encaminhado ao CRAS/ CREAS de referência do seu local de residência para avaliação multidisciplinar que, por sua vez, encaminha para a rede conveniada conforme critérios da equipe do Sistema Único de Assistência Social.”','Rede de Proteção às Mulheres do Distrito Federal | 3ª edição Núcleo Judiciário da Mulher - NJM/TJDFT 17 16ÁGUAS CLARAS A A ÁGUAS CLARAS','Rede de Proteção às Mulheres do Distrito Federal | 3ª edição Núcleo Judiciário da Mulher - NJM/TJDFT 27 26ÁGUAS CLARAS ÁGUAS CLARASA A','Internação Álcool / Drogas: Para acessar as instituições de internação conveniadas à Secretaria de Saúde do Distrito Federal, o(a) jurisdicionado(a) deve ser encaminhado ao CAPS AD de referência do seu local de residência para avaliação multidisciplinar que, por sua vez, encaminha para a rede conveniada conforme critérios da equipe de saúde.','Programas Assistência Social: Para acessar os programas da Assistência Social, o(a) jurisdicionado(a) deve ser encaminhado ao CRAS/ CREAS de referência do seu local de residência para avaliação multidisciplinar que, por sua vez, encaminha para a rede conveniada conforme critérios da equipe do Sistema Único de Assistência Social.','Programas Assistência Social:  Para acessar os programas da Assistência Social, o(a) jurisdicionado(a) deve ser encaminhado ao CRAS/ CREAS de referência do seu local de residência para avaliação multidisciplinar que, por sua vez, encaminha para a rede conveniada conforme critérios da equipe do Sistema Único de Assistência Social.','Rede de Proteção às Mulheres do Distrito Federal | 3ª edição Núcleo Judiciário da Mulher - NJM/TJDFT 21 20ÁGUAS CLARAS ÁGUAS CLARASA A','Rede de Proteção às Mulheres do Distrito Federal | 3ª edição Núcleo Judiciário da Mulher - NJM/TJDFT 19 18ÁGUAS CLARAS ÁGUAS CLARASA A']\n",
    "    for c in lista_limpar:\n",
    "        text = text.replace(c, '')\n",
    "    return text"
   ]
  },
  {
   "cell_type": "markdown",
   "id": "18973b4d",
   "metadata": {},
   "source": [
    "Função para gerar um dicionário com cada informação de uma instituição"
   ]
  },
  {
   "cell_type": "code",
   "execution_count": 23,
   "id": "67cc56eb",
   "metadata": {
    "ExecuteTime": {
     "end_time": "2022-10-25T14:00:11.278216Z",
     "start_time": "2022-10-25T14:00:11.170223Z"
    }
   },
   "outputs": [],
   "source": [
    "def get_dic_v2(t1):\n",
    "    categorias = ['Endereço', 'Telefones Gerais', 'Fax', 'E-mail', 'Observações', 'Observação', 'Atendimento', 'Horário', 'Público', 'Bens e Serviços', 'Bens e serviços', 'Critérios', 'Critério']\n",
    "    l = []\n",
    "\n",
    "    # Busca os índices de todos os tipos de informações\n",
    "    for c in categorias:\n",
    "        if c == 'Atendimento':\n",
    "            l.append(t1.find(c, 30))\n",
    "        else:\n",
    "            l.append(t1.find(c))\n",
    "\n",
    "    # Dicionário apenas com os tipos de informações presentes\n",
    "    dic_contem = {}\n",
    "    for c in range(len(l)):\n",
    "        if l[c] != -1:\n",
    "            dic_contem[categorias[c]] = l[c]\n",
    "    dic_contem = dict(sorted(dic_contem.items(), key=lambda item: item[1]))\n",
    "\n",
    "    # Coleta as informações de cada tipo de informações e transforma em um dicionário\n",
    "    cont, dic_final= 0, {}\n",
    "    nome, indice = '', 0\n",
    "    for key, value in dic_contem.items():\n",
    "        if cont != 0:\n",
    "            dic_final[nome] = [t1[indice + len(nome):value]]\n",
    "        else:\n",
    "            dic_final['Instituição'] = [t1[:value]]\n",
    "            indice = value\n",
    "        cont = 1\n",
    "        nome = key\n",
    "        indice = value\n",
    "    dic_final[nome] = [t1[indice + len(nome):]]\n",
    "    return dic_final"
   ]
  },
  {
   "cell_type": "markdown",
   "id": "c9d21cfa",
   "metadata": {},
   "source": [
    "Função para gerar um dataset de uma RA dada"
   ]
  },
  {
   "cell_type": "code",
   "execution_count": 24,
   "id": "f82e7312",
   "metadata": {
    "ExecuteTime": {
     "end_time": "2022-10-25T14:00:11.389225Z",
     "start_time": "2022-10-25T14:00:11.280218Z"
    }
   },
   "outputs": [],
   "source": [
    "def get_dataset(nome_ra, texto_tratado):\n",
    "    tipos_info = ['ADMINISTRAÇÃO', 'ÁLCOOL, DROGAS', 'ASSISTÊNCIA SOCIAL', 'DIREITO, JUSTIÇA, SEGURANÇA PÚBLICA', 'EDUCAÇÃO', 'ESPORTE/ LAZER/ CULTURA', 'PESQUISA/CONSULTORIA', 'PREVIDÊNCIA SOCIAL', 'SAÚDE, SAÚDE MENTAL', 'SAÚDE/SAÚDE MENTAL','TRABALHO, FORMAÇÃO PROFISSIONAL','TRABALHO/ FORMAÇÃO PROFISSIONAL','VIOLÊNCIA']\n",
    "    text_adm, text_alcool, text_assistencia, text_djs, text_edu, text_esporte, text_pesquisa, text_previdencia, text_saude, text_trabalho, text_violencia = '', '', '', '', '', '', '', '', '', '', ''\n",
    "    lista_textos = [text_adm, text_alcool, text_assistencia, text_djs, text_edu, text_esporte, text_pesquisa, text_previdencia, text_saude, text_trabalho, text_violencia]\n",
    "    indi_tipos, nome_contem, ind_contem = [], [], []\n",
    "    for tipo in tipos_info:\n",
    "        indi_tipos.append(texto_tratado.find(tipo))\n",
    "    \n",
    "    c_indice = 0\n",
    "    first = True\n",
    "    for indice in indi_tipos:\n",
    "        if indice > -1:\n",
    "            nome_contem.append(tipos_info[c_indice])\n",
    "            ind_contem.append(indice)\n",
    "        c_indice += 1\n",
    "\n",
    "    # ['ADMINISTRAÇÃO', 'ÁLCOOL, DROGAS', 'ASSISTÊNCIA SOCIAL', 'DIREITO, JUSTIÇA, SEGURANÇA PÚBLICA', 'SAÚDE/SAÚDE MENTAL', 'VIOLÊNCIA']\n",
    "    # [32, 237, 1966, 4983, 10270, 11995]\n",
    "    lista_textos = []\n",
    "    for k, v in enumerate(nome_contem):\n",
    "        i = ind_contem[k]\n",
    "        # k -> contador\n",
    "        # v -> nome da categoria\n",
    "        len_cat = len(v)\n",
    "        # i -> indice da categoria\n",
    "        if k < 1:\n",
    "            ind_ant = 0\n",
    "        if k < len(nome_contem) - 1:\n",
    "            text_cat = texto_tratado[ind_contem[k] + len_cat - 1: ind_contem[k + 1]].replace(v, '')\n",
    "        else:\n",
    "            text_cat = texto_tratado[ind_contem[k] + len_cat - 1:].replace(v, '')\n",
    "        lista_textos.append(text_cat)\n",
    "    \n",
    "    data_teste = pd.DataFrame()\n",
    "    contador = 0\n",
    "    for texto in lista_textos:\n",
    "        for trecho in texto.split('Instituição'):\n",
    "            if trecho != '':\n",
    "                dic_tratado = get_dic_v2(trecho)\n",
    "                data_temp = pd.DataFrame(dic_tratado)\n",
    "                data_temp['Tipo'] = nome_contem[contador]\n",
    "                data_teste = pd.concat([data_teste, data_temp], ignore_index=True, join='outer')\n",
    "        contador += 1\n",
    "    data_teste_sb = data_teste\n",
    "\n",
    "    data_teste['Região Administrativa'] = nome_ra\n",
    "    data_teste = data_teste[['Região Administrativa','Tipo','Instituição', 'Endereço', 'Telefones Gerais', 'E-mail', 'Observações',\n",
    "           'Atendimento', 'Horário', 'Público', 'Critérios']]\n",
    "\n",
    "    data_teste_an = data_teste\n",
    "    return data_teste_an"
   ]
  },
  {
   "cell_type": "markdown",
   "id": "d709cf86",
   "metadata": {},
   "source": [
    "### Extração dos dados"
   ]
  },
  {
   "cell_type": "code",
   "execution_count": 25,
   "id": "68b0a318",
   "metadata": {
    "ExecuteTime": {
     "end_time": "2022-10-25T14:01:01.947284Z",
     "start_time": "2022-10-25T14:00:11.391228Z"
    }
   },
   "outputs": [],
   "source": [
    "cont = 0\n",
    "data_all = pd.DataFrame()\n",
    "for k, v in enumerate(lista_RA):\n",
    "    nome_ra = v\n",
    "    # k valor de início e valor final\n",
    "    texto_bruto = ''\n",
    "    for c in range(lista_indices[cont], lista_indices[cont + 1]):\n",
    "        tg = pdf_file.pages[c].extract_text()\n",
    "        texto_bruto = ''.join([texto_bruto, tg])\n",
    "    cont += 2\n",
    "    texto_tratado = limpar_texto_bruto(texto_bruto)\n",
    "    \n",
    "    data_temp = get_dataset(nome_ra, texto_tratado)\n",
    "    data_all = pd.concat([data_all, data_temp], ignore_index=True, join='outer')"
   ]
  },
  {
   "cell_type": "code",
   "execution_count": 26,
   "id": "cf6b372e",
   "metadata": {
    "ExecuteTime": {
     "end_time": "2022-10-25T14:01:01.979286Z",
     "start_time": "2022-10-25T14:01:01.949287Z"
    },
    "scrolled": true
   },
   "outputs": [
    {
     "data": {
      "text/plain": [
       "(1522, 11)"
      ]
     },
     "execution_count": 26,
     "metadata": {},
     "output_type": "execute_result"
    }
   ],
   "source": [
    "data_all.shape"
   ]
  },
  {
   "cell_type": "markdown",
   "id": "f106b8a3",
   "metadata": {},
   "source": [
    "### Tratamento dos dados"
   ]
  },
  {
   "cell_type": "code",
   "execution_count": 31,
   "id": "0922a39d",
   "metadata": {
    "ExecuteTime": {
     "end_time": "2022-10-25T14:01:02.059293Z",
     "start_time": "2022-10-25T14:01:01.982286Z"
    }
   },
   "outputs": [
    {
     "data": {
      "text/html": [
       "<div>\n",
       "<style scoped>\n",
       "    .dataframe tbody tr th:only-of-type {\n",
       "        vertical-align: middle;\n",
       "    }\n",
       "\n",
       "    .dataframe tbody tr th {\n",
       "        vertical-align: top;\n",
       "    }\n",
       "\n",
       "    .dataframe thead th {\n",
       "        text-align: right;\n",
       "    }\n",
       "</style>\n",
       "<table border=\"1\" class=\"dataframe\">\n",
       "  <thead>\n",
       "    <tr style=\"text-align: right;\">\n",
       "      <th></th>\n",
       "      <th>Região Administrativa</th>\n",
       "      <th>Tipo</th>\n",
       "      <th>Instituição</th>\n",
       "      <th>Endereço</th>\n",
       "      <th>Telefones Gerais</th>\n",
       "      <th>E-mail</th>\n",
       "      <th>Observações</th>\n",
       "      <th>Atendimento</th>\n",
       "      <th>Horário</th>\n",
       "      <th>Público</th>\n",
       "      <th>Critérios</th>\n",
       "    </tr>\n",
       "  </thead>\n",
       "  <tbody>\n",
       "    <tr>\n",
       "      <th>0</th>\n",
       "      <td>ÁGUAS CLARAS</td>\n",
       "      <td>ADMINISTRAÇÃO</td>\n",
       "      <td>Administração Regional de Águas Claras</td>\n",
       "      <td>Rua Manacá Lote 2 Bloco 1, Águas Claras</td>\n",
       "      <td>3383-8929</td>\n",
       "      <td>atendimento.raxx@gmail.com</td>\n",
       "      <td>NaN</td>\n",
       "      <td>De segunda a sexta-feira</td>\n",
       "      <td>Das 8h às 11h e das 14h às 18h</td>\n",
       "      <td>Todos</td>\n",
       "      <td>NaN</td>\n",
       "    </tr>\n",
       "    <tr>\n",
       "      <th>1</th>\n",
       "      <td>ÁGUAS CLARAS</td>\n",
       "      <td>ÁLCOOL, DROGAS</td>\n",
       "      <td>Alcoólicos Anônimos (AA) – Grupo Águas Claras</td>\n",
       "      <td>R. das Figueiras, lotes 2/4 - Q. 101, s/n Ed. ...</td>\n",
       "      <td>3226-0091 / 3351-9644 (escritórios em Brasília)</td>\n",
       "      <td>NaN</td>\n",
       "      <td>Para ser membro de A.A. não há taxas ou mensa...</td>\n",
       "      <td>De segunda a sexta-feira</td>\n",
       "      <td>Das 20h às 22h</td>\n",
       "      <td>Adultos (homens e mulheres) que possuem proble...</td>\n",
       "      <td></td>\n",
       "    </tr>\n",
       "    <tr>\n",
       "      <th>2</th>\n",
       "      <td>ÁGUAS CLARAS</td>\n",
       "      <td>ÁLCOOL, DROGAS</td>\n",
       "      <td>Al-Anon – Grupo Águas Claras</td>\n",
       "      <td>SWPW Quadra 101 Rua das Figueiras Residencial ...</td>\n",
       "      <td>NaN</td>\n",
       "      <td>NaN</td>\n",
       "      <td>Para ser membro de Al-Anon não há taxas ou me...</td>\n",
       "      <td>Segundas-feiras</td>\n",
       "      <td>Das 20h às 22h</td>\n",
       "      <td>Familiares e amigos de alcoolistas. Abrange ta...</td>\n",
       "      <td>NaN</td>\n",
       "    </tr>\n",
       "    <tr>\n",
       "      <th>3</th>\n",
       "      <td>ÁGUAS CLARAS</td>\n",
       "      <td>ÁLCOOL, DROGAS</td>\n",
       "      <td>Narcóticos Anônimos -NA</td>\n",
       "      <td>Rua das Figueiras, Lotes 2/4, Ed. Figueiras Sa...</td>\n",
       "      <td>NaN</td>\n",
       "      <td>NaN</td>\n",
       "      <td>NaN</td>\n",
       "      <td>Quinta-feira</td>\n",
       "      <td>NaN</td>\n",
       "      <td>NaN</td>\n",
       "      <td>NaN</td>\n",
       "    </tr>\n",
       "    <tr>\n",
       "      <th>4</th>\n",
       "      <td>ÁGUAS CLARAS</td>\n",
       "      <td>ÁLCOOL, DROGAS</td>\n",
       "      <td>Alcoólicos Anônimos (AA) – Grupo Águas Claras</td>\n",
       "      <td>NaN</td>\n",
       "      <td>NaN</td>\n",
       "      <td>NaN</td>\n",
       "      <td>O NA é uma irmandade ou sociedade sem fins luc...</td>\n",
       "      <td>NaN</td>\n",
       "      <td>20h</td>\n",
       "      <td>Adultos, homens e mulheres que possuem problem...</td>\n",
       "      <td>NaN</td>\n",
       "    </tr>\n",
       "    <tr>\n",
       "      <th>...</th>\n",
       "      <td>...</td>\n",
       "      <td>...</td>\n",
       "      <td>...</td>\n",
       "      <td>...</td>\n",
       "      <td>...</td>\n",
       "      <td>...</td>\n",
       "      <td>...</td>\n",
       "      <td>...</td>\n",
       "      <td>...</td>\n",
       "      <td>...</td>\n",
       "      <td>...</td>\n",
       "    </tr>\n",
       "    <tr>\n",
       "      <th>1252</th>\n",
       "      <td>VILA PLANALTO</td>\n",
       "      <td>SAÚDE/SAÚDE MENTAL</td>\n",
       "      <td>CAPSi (Centro de Atenção Psicossocial Infanto-...</td>\n",
       "      <td>SMHN, Qd. 03, Conj. 1, Bloco A, Ed. COMPP – As...</td>\n",
       "      <td>2017-1900 (Ramais 7710 e 7711)</td>\n",
       "      <td>capsi.asanorte@yahoo.com.br</td>\n",
       "      <td>NaN</td>\n",
       "      <td>Segunda a sexta.</td>\n",
       "      <td>8h – 17h.</td>\n",
       "      <td>Infanto-Juvenil.</td>\n",
       "      <td></td>\n",
       "    </tr>\n",
       "    <tr>\n",
       "      <th>1253</th>\n",
       "      <td>VILA PLANALTO</td>\n",
       "      <td>SAÚDE/SAÚDE MENTAL</td>\n",
       "      <td>Unidade Básica de Saúde Nº. 03 – Vila Planalto</td>\n",
       "      <td>Rua Piauí, área especial s/nº – Vila Planalto.</td>\n",
       "      <td>NaN</td>\n",
       "      <td>csb15vilaplanalto@gmail.com</td>\n",
       "      <td>NaN</td>\n",
       "      <td>ambulatorial e atenção básica preventiva.</td>\n",
       "      <td>Segunda a sexta-feira. das 07:00 às 18:00 e ao...</td>\n",
       "      <td>Todos.</td>\n",
       "      <td>NaN</td>\n",
       "    </tr>\n",
       "    <tr>\n",
       "      <th>1254</th>\n",
       "      <td>VILA PLANALTO</td>\n",
       "      <td>VIOLÊNCIA</td>\n",
       "      <td>Pró-Vítima - Subsecretaria de Proteção às Vít...</td>\n",
       "      <td>Estação Rodoferroviária, Ala Central, Térreo,...</td>\n",
       "      <td>2104-4289</td>\n",
       "      <td>provitima.sejusgdf@gmail.com</td>\n",
       "      <td>NaN</td>\n",
       "      <td>De segunda a sexta-feira</td>\n",
       "      <td>8h às 18h</td>\n",
       "      <td>Todos</td>\n",
       "      <td></td>\n",
       "    </tr>\n",
       "    <tr>\n",
       "      <th>1255</th>\n",
       "      <td>VILA PLANALTO</td>\n",
       "      <td>VIOLÊNCIA</td>\n",
       "      <td>Centro de Especialidades para a Atenção às Pes...</td>\n",
       "      <td>temporário (atualizado em maio/21) COMPP - SM...</td>\n",
       "      <td>2017-1900 / R: 7169 / Whatsapp (61) 992370336 ...</td>\n",
       "      <td>programamargarida.hran@gmail.com.br</td>\n",
       "      <td>Acolhimento -</td>\n",
       "      <td>individual (psicossocial e médico), familiar ...</td>\n",
       "      <td>Das 8h às 18h.</td>\n",
       "      <td>Pessoas acima de 18 anos, adultos em situação ...</td>\n",
       "      <td>NaN</td>\n",
       "    </tr>\n",
       "    <tr>\n",
       "      <th>1256</th>\n",
       "      <td>VILA PLANALTO</td>\n",
       "      <td>VIOLÊNCIA</td>\n",
       "      <td>Centro de Especialidades para a Atenção às Pes...</td>\n",
       "      <td>temporário (atualizado em maio/21) COMPP - SM...</td>\n",
       "      <td>2017-1900 / R: 7169</td>\n",
       "      <td>pavjardim@gmail.com</td>\n",
       "      <td></td>\n",
       "      <td>a vítimas de violência sexual, física, neglig...</td>\n",
       "      <td>Das 8h às 18h.</td>\n",
       "      <td>Crianças e seus familiares em situação de viol...</td>\n",
       "      <td>NaN</td>\n",
       "    </tr>\n",
       "  </tbody>\n",
       "</table>\n",
       "<p>1257 rows × 11 columns</p>\n",
       "</div>"
      ],
      "text/plain": [
       "     Região Administrativa                Tipo  \\\n",
       "0             ÁGUAS CLARAS       ADMINISTRAÇÃO   \n",
       "1             ÁGUAS CLARAS      ÁLCOOL, DROGAS   \n",
       "2             ÁGUAS CLARAS      ÁLCOOL, DROGAS   \n",
       "3             ÁGUAS CLARAS      ÁLCOOL, DROGAS   \n",
       "4             ÁGUAS CLARAS      ÁLCOOL, DROGAS   \n",
       "...                    ...                 ...   \n",
       "1252         VILA PLANALTO  SAÚDE/SAÚDE MENTAL   \n",
       "1253         VILA PLANALTO  SAÚDE/SAÚDE MENTAL   \n",
       "1254         VILA PLANALTO           VIOLÊNCIA   \n",
       "1255         VILA PLANALTO           VIOLÊNCIA   \n",
       "1256         VILA PLANALTO           VIOLÊNCIA   \n",
       "\n",
       "                                            Instituição  \\\n",
       "0                Administração Regional de Águas Claras   \n",
       "1         Alcoólicos Anônimos (AA) – Grupo Águas Claras   \n",
       "2                          Al-Anon – Grupo Águas Claras   \n",
       "3                              Narcóticos Anônimos -NA    \n",
       "4         Alcoólicos Anônimos (AA) – Grupo Águas Claras   \n",
       "...                                                 ...   \n",
       "1252  CAPSi (Centro de Atenção Psicossocial Infanto-...   \n",
       "1253     Unidade Básica de Saúde Nº. 03 – Vila Planalto   \n",
       "1254   Pró-Vítima - Subsecretaria de Proteção às Vít...   \n",
       "1255  Centro de Especialidades para a Atenção às Pes...   \n",
       "1256  Centro de Especialidades para a Atenção às Pes...   \n",
       "\n",
       "                                               Endereço  \\\n",
       "0               Rua Manacá Lote 2 Bloco 1, Águas Claras   \n",
       "1     R. das Figueiras, lotes 2/4 - Q. 101, s/n Ed. ...   \n",
       "2     SWPW Quadra 101 Rua das Figueiras Residencial ...   \n",
       "3     Rua das Figueiras, Lotes 2/4, Ed. Figueiras Sa...   \n",
       "4                                                   NaN   \n",
       "...                                                 ...   \n",
       "1252  SMHN, Qd. 03, Conj. 1, Bloco A, Ed. COMPP – As...   \n",
       "1253     Rua Piauí, área especial s/nº – Vila Planalto.   \n",
       "1254   Estação Rodoferroviária, Ala Central, Térreo,...   \n",
       "1255   temporário (atualizado em maio/21) COMPP - SM...   \n",
       "1256   temporário (atualizado em maio/21) COMPP - SM...   \n",
       "\n",
       "                                       Telefones Gerais  \\\n",
       "0                                             3383-8929   \n",
       "1       3226-0091 / 3351-9644 (escritórios em Brasília)   \n",
       "2                                                   NaN   \n",
       "3                                                   NaN   \n",
       "4                                                   NaN   \n",
       "...                                                 ...   \n",
       "1252                     2017-1900 (Ramais 7710 e 7711)   \n",
       "1253                                                NaN   \n",
       "1254                                          2104-4289   \n",
       "1255  2017-1900 / R: 7169 / Whatsapp (61) 992370336 ...   \n",
       "1256                                2017-1900 / R: 7169   \n",
       "\n",
       "                                   E-mail  \\\n",
       "0              atendimento.raxx@gmail.com   \n",
       "1                                     NaN   \n",
       "2                                     NaN   \n",
       "3                                     NaN   \n",
       "4                                     NaN   \n",
       "...                                   ...   \n",
       "1252          capsi.asanorte@yahoo.com.br   \n",
       "1253          csb15vilaplanalto@gmail.com   \n",
       "1254         provitima.sejusgdf@gmail.com   \n",
       "1255  programamargarida.hran@gmail.com.br   \n",
       "1256                  pavjardim@gmail.com   \n",
       "\n",
       "                                            Observações  \\\n",
       "0                                                   NaN   \n",
       "1      Para ser membro de A.A. não há taxas ou mensa...   \n",
       "2      Para ser membro de Al-Anon não há taxas ou me...   \n",
       "3                                                   NaN   \n",
       "4     O NA é uma irmandade ou sociedade sem fins luc...   \n",
       "...                                                 ...   \n",
       "1252                                                NaN   \n",
       "1253                                                NaN   \n",
       "1254                                                NaN   \n",
       "1255                                     Acolhimento -    \n",
       "1256                                                      \n",
       "\n",
       "                                            Atendimento  \\\n",
       "0                              De segunda a sexta-feira   \n",
       "1                              De segunda a sexta-feira   \n",
       "2                                       Segundas-feiras   \n",
       "3                                         Quinta-feira    \n",
       "4                                                   NaN   \n",
       "...                                                 ...   \n",
       "1252                                   Segunda a sexta.   \n",
       "1253          ambulatorial e atenção básica preventiva.   \n",
       "1254                           De segunda a sexta-feira   \n",
       "1255   individual (psicossocial e médico), familiar ...   \n",
       "1256   a vítimas de violência sexual, física, neglig...   \n",
       "\n",
       "                                                Horário  \\\n",
       "0                        Das 8h às 11h e das 14h às 18h   \n",
       "1                                        Das 20h às 22h   \n",
       "2                                        Das 20h às 22h   \n",
       "3                                                   NaN   \n",
       "4                                                   20h   \n",
       "...                                                 ...   \n",
       "1252                                          8h – 17h.   \n",
       "1253  Segunda a sexta-feira. das 07:00 às 18:00 e ao...   \n",
       "1254                                          8h às 18h   \n",
       "1255                                     Das 8h às 18h.   \n",
       "1256                                     Das 8h às 18h.   \n",
       "\n",
       "                                                Público Critérios  \n",
       "0                                                 Todos       NaN  \n",
       "1     Adultos (homens e mulheres) que possuem proble...            \n",
       "2     Familiares e amigos de alcoolistas. Abrange ta...       NaN  \n",
       "3                                                   NaN       NaN  \n",
       "4     Adultos, homens e mulheres que possuem problem...       NaN  \n",
       "...                                                 ...       ...  \n",
       "1252                                   Infanto-Juvenil.            \n",
       "1253                                             Todos.       NaN  \n",
       "1254                                              Todos            \n",
       "1255  Pessoas acima de 18 anos, adultos em situação ...       NaN  \n",
       "1256  Crianças e seus familiares em situação de viol...       NaN  \n",
       "\n",
       "[1257 rows x 11 columns]"
      ]
     },
     "execution_count": 31,
     "metadata": {},
     "output_type": "execute_result"
    }
   ],
   "source": [
    "data = data_all.dropna(subset=['Instituição']).reset_index(drop=True)\n",
    "data"
   ]
  },
  {
   "cell_type": "markdown",
   "id": "755879ad",
   "metadata": {},
   "source": [
    "### Exportação dos dados"
   ]
  },
  {
   "cell_type": "code",
   "execution_count": 30,
   "id": "db41bfca",
   "metadata": {
    "ExecuteTime": {
     "end_time": "2022-10-25T14:01:43.577423Z",
     "start_time": "2022-10-25T14:01:42.936369Z"
    }
   },
   "outputs": [],
   "source": [
    "data.to_excel('cartilha_dados.xlsx', index=False)"
   ]
  }
 ],
 "metadata": {
  "kernelspec": {
   "display_name": "Python 3 (ipykernel)",
   "language": "python",
   "name": "python3"
  },
  "language_info": {
   "codemirror_mode": {
    "name": "ipython",
    "version": 3
   },
   "file_extension": ".py",
   "mimetype": "text/x-python",
   "name": "python",
   "nbconvert_exporter": "python",
   "pygments_lexer": "ipython3",
   "version": "3.9.12"
  },
  "varInspector": {
   "cols": {
    "lenName": 16,
    "lenType": 16,
    "lenVar": 40
   },
   "kernels_config": {
    "python": {
     "delete_cmd_postfix": "",
     "delete_cmd_prefix": "del ",
     "library": "var_list.py",
     "varRefreshCmd": "print(var_dic_list())"
    },
    "r": {
     "delete_cmd_postfix": ") ",
     "delete_cmd_prefix": "rm(",
     "library": "var_list.r",
     "varRefreshCmd": "cat(var_dic_list()) "
    }
   },
   "types_to_exclude": [
    "module",
    "function",
    "builtin_function_or_method",
    "instance",
    "_Feature"
   ],
   "window_display": false
  }
 },
 "nbformat": 4,
 "nbformat_minor": 5
}
